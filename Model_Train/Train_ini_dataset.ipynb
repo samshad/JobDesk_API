{
  "nbformat": 4,
  "nbformat_minor": 0,
  "metadata": {
    "colab": {
      "name": "Train_ini_dataset.ipynb",
      "provenance": []
    },
    "kernelspec": {
      "name": "python3",
      "display_name": "Python 3"
    },
    "language_info": {
      "name": "python"
    }
  },
  "cells": [
    {
      "cell_type": "code",
      "metadata": {
        "colab": {
          "base_uri": "https://localhost:8080/"
        },
        "id": "l9guv5X6phBT",
        "outputId": "ea9342b9-e45b-4d4d-f540-4497c116ceac"
      },
      "source": [
        "from google.colab import drive\n",
        "drive.mount('/gdrive')"
      ],
      "execution_count": null,
      "outputs": [
        {
          "output_type": "stream",
          "name": "stdout",
          "text": [
            "Drive already mounted at /gdrive; to attempt to forcibly remount, call drive.mount(\"/gdrive\", force_remount=True).\n"
          ]
        }
      ]
    },
    {
      "cell_type": "code",
      "metadata": {
        "id": "9dT0F5TVp3rr"
      },
      "source": [
        "import pandas as pd\n",
        "import numpy as np"
      ],
      "execution_count": null,
      "outputs": []
    },
    {
      "cell_type": "code",
      "metadata": {
        "id": "nczojOrqp5ZK"
      },
      "source": [
        "from sklearn.feature_extraction.text import TfidfVectorizer\n",
        "from sklearn.preprocessing import MultiLabelBinarizer\n",
        "from sklearn.model_selection import train_test_split\n",
        "\n",
        "from sklearn.linear_model import SGDClassifier\n",
        "from sklearn.linear_model import LogisticRegression\n",
        "from sklearn.svm import LinearSVC\n",
        "from sklearn.naive_bayes import MultinomialNB\n",
        "\n",
        "from sklearn.multiclass import OneVsRestClassifier"
      ],
      "execution_count": null,
      "outputs": []
    },
    {
      "cell_type": "code",
      "metadata": {
        "colab": {
          "base_uri": "https://localhost:8080/",
          "height": 363
        },
        "id": "JIRIUCzHIw4b",
        "outputId": "da8692f4-efb0-4db9-d741-038b3c8df2d9"
      },
      "source": [
        "!pip install -U scikit-learn"
      ],
      "execution_count": null,
      "outputs": [
        {
          "output_type": "stream",
          "name": "stdout",
          "text": [
            "Requirement already satisfied: scikit-learn in /usr/local/lib/python3.7/dist-packages (0.22.2.post1)\n",
            "Collecting scikit-learn\n",
            "  Downloading scikit_learn-1.0-cp37-cp37m-manylinux_2_12_x86_64.manylinux2010_x86_64.whl (23.1 MB)\n",
            "\u001b[K     |████████████████████████████████| 23.1 MB 58.5 MB/s \n",
            "\u001b[?25hCollecting threadpoolctl>=2.0.0\n",
            "  Downloading threadpoolctl-2.2.0-py3-none-any.whl (12 kB)\n",
            "Requirement already satisfied: scipy>=1.1.0 in /usr/local/lib/python3.7/dist-packages (from scikit-learn) (1.4.1)\n",
            "Requirement already satisfied: joblib>=0.11 in /usr/local/lib/python3.7/dist-packages (from scikit-learn) (1.0.1)\n",
            "Requirement already satisfied: numpy>=1.14.6 in /usr/local/lib/python3.7/dist-packages (from scikit-learn) (1.19.5)\n",
            "Installing collected packages: threadpoolctl, scikit-learn\n",
            "  Attempting uninstall: scikit-learn\n",
            "    Found existing installation: scikit-learn 0.22.2.post1\n",
            "    Uninstalling scikit-learn-0.22.2.post1:\n",
            "      Successfully uninstalled scikit-learn-0.22.2.post1\n",
            "Successfully installed scikit-learn-1.0 threadpoolctl-2.2.0\n"
          ]
        },
        {
          "output_type": "display_data",
          "data": {
            "application/vnd.colab-display-data+json": {
              "pip_warning": {
                "packages": [
                  "sklearn"
                ]
              }
            }
          },
          "metadata": {}
        }
      ]
    },
    {
      "cell_type": "code",
      "metadata": {
        "id": "EcBFGAXvnOT4"
      },
      "source": [
        "df = pd.read_csv('/gdrive/MyDrive/Dataset_Jobdesk/merged_dataset_sectors.csv')"
      ],
      "execution_count": null,
      "outputs": []
    },
    {
      "cell_type": "code",
      "metadata": {
        "id": "k-0XW26up7Nb"
      },
      "source": [
        "df = pd.read_csv('/gdrive/MyDrive/Dataset_Jobdesk/ini_dataset.csv')"
      ],
      "execution_count": null,
      "outputs": []
    },
    {
      "cell_type": "code",
      "metadata": {
        "colab": {
          "base_uri": "https://localhost:8080/",
          "height": 206
        },
        "id": "vtYT9oboqJLH",
        "outputId": "a99b6891-1881-4521-ef63-663ea04563d8"
      },
      "source": [
        "df.head()"
      ],
      "execution_count": null,
      "outputs": [
        {
          "output_type": "execute_result",
          "data": {
            "text/html": [
              "<div>\n",
              "<style scoped>\n",
              "    .dataframe tbody tr th:only-of-type {\n",
              "        vertical-align: middle;\n",
              "    }\n",
              "\n",
              "    .dataframe tbody tr th {\n",
              "        vertical-align: top;\n",
              "    }\n",
              "\n",
              "    .dataframe thead th {\n",
              "        text-align: right;\n",
              "    }\n",
              "</style>\n",
              "<table border=\"1\" class=\"dataframe\">\n",
              "  <thead>\n",
              "    <tr style=\"text-align: right;\">\n",
              "      <th></th>\n",
              "      <th>texts</th>\n",
              "      <th>sectors</th>\n",
              "    </tr>\n",
              "  </thead>\n",
              "  <tbody>\n",
              "    <tr>\n",
              "      <th>0</th>\n",
              "      <td>Absatzplaner Produktemengenplaner Absatzplaner...</td>\n",
              "      <td>['Marketing']</td>\n",
              "    </tr>\n",
              "    <tr>\n",
              "      <th>1</th>\n",
              "      <td>Absenzenmanager Absenzenmanager Absenzenmanage...</td>\n",
              "      <td>['Personalmanagement']</td>\n",
              "    </tr>\n",
              "    <tr>\n",
              "      <th>2</th>\n",
              "      <td>Account Manager Kundenbetreuer Account Manager...</td>\n",
              "      <td>['Verkauf/Kundenberatung']</td>\n",
              "    </tr>\n",
              "    <tr>\n",
              "      <th>3</th>\n",
              "      <td>Accounting-Project-Manager Projektablaufoptimi...</td>\n",
              "      <td>['Beratung/Recht']</td>\n",
              "    </tr>\n",
              "    <tr>\n",
              "      <th>4</th>\n",
              "      <td>After Sales Manager Reklamationsmanager After ...</td>\n",
              "      <td>['Verkauf/Kundenberatung']</td>\n",
              "    </tr>\n",
              "  </tbody>\n",
              "</table>\n",
              "</div>"
            ],
            "text/plain": [
              "                                               texts                     sectors\n",
              "0  Absatzplaner Produktemengenplaner Absatzplaner...               ['Marketing']\n",
              "1  Absenzenmanager Absenzenmanager Absenzenmanage...      ['Personalmanagement']\n",
              "2  Account Manager Kundenbetreuer Account Manager...  ['Verkauf/Kundenberatung']\n",
              "3  Accounting-Project-Manager Projektablaufoptimi...          ['Beratung/Recht']\n",
              "4  After Sales Manager Reklamationsmanager After ...  ['Verkauf/Kundenberatung']"
            ]
          },
          "metadata": {},
          "execution_count": 87
        }
      ]
    },
    {
      "cell_type": "code",
      "metadata": {
        "colab": {
          "base_uri": "https://localhost:8080/",
          "height": 35
        },
        "id": "_KVkin5zqZpa",
        "outputId": "32b89910-3493-4d36-a297-0ae8930f0d86"
      },
      "source": [
        "df['sectors'].iloc[0]"
      ],
      "execution_count": null,
      "outputs": [
        {
          "output_type": "execute_result",
          "data": {
            "application/vnd.google.colaboratory.intrinsic+json": {
              "type": "string"
            },
            "text/plain": [
              "\"['Marketing']\""
            ]
          },
          "metadata": {},
          "execution_count": 88
        }
      ]
    },
    {
      "cell_type": "code",
      "metadata": {
        "id": "Dh-ucKVqqg4x"
      },
      "source": [
        "import ast"
      ],
      "execution_count": null,
      "outputs": []
    },
    {
      "cell_type": "code",
      "metadata": {
        "id": "Ib6KpMoPqid2",
        "colab": {
          "base_uri": "https://localhost:8080/"
        },
        "outputId": "02e7f9b3-0ece-4ca4-e6df-083a874a91ba"
      },
      "source": [
        "ast.literal_eval(df['sectors'].iloc[0])"
      ],
      "execution_count": null,
      "outputs": [
        {
          "output_type": "execute_result",
          "data": {
            "text/plain": [
              "['Marketing']"
            ]
          },
          "metadata": {},
          "execution_count": 90
        }
      ]
    },
    {
      "cell_type": "code",
      "metadata": {
        "id": "ErcEH7Whq04d"
      },
      "source": [
        "df['sectors'] = df['sectors'].apply(lambda x: ast.literal_eval(x))\n",
        "# df['title'] = df['title'].apply(lambda x: [str(x)])"
      ],
      "execution_count": null,
      "outputs": []
    },
    {
      "cell_type": "code",
      "metadata": {
        "id": "O8B6ELwNqLT3"
      },
      "source": [
        "multilabel = MultiLabelBinarizer()"
      ],
      "execution_count": null,
      "outputs": []
    },
    {
      "cell_type": "code",
      "metadata": {
        "id": "MpJvLlizqOkJ"
      },
      "source": [
        "y = multilabel.fit_transform(df['sectors'])"
      ],
      "execution_count": null,
      "outputs": []
    },
    {
      "cell_type": "code",
      "metadata": {
        "colab": {
          "base_uri": "https://localhost:8080/"
        },
        "id": "2AsbluqZjaml",
        "outputId": "a281e03e-547f-4700-b491-532ed3e607ba"
      },
      "source": [
        "y"
      ],
      "execution_count": null,
      "outputs": [
        {
          "output_type": "execute_result",
          "data": {
            "text/plain": [
              "array([[0, 0, 0, ..., 0, 0, 0],\n",
              "       [0, 0, 0, ..., 0, 1, 0],\n",
              "       [0, 0, 0, ..., 0, 0, 1],\n",
              "       ...,\n",
              "       [0, 0, 0, ..., 0, 0, 0],\n",
              "       [0, 0, 0, ..., 0, 0, 0],\n",
              "       [0, 0, 0, ..., 0, 0, 0]])"
            ]
          },
          "metadata": {},
          "execution_count": 94
        }
      ]
    },
    {
      "cell_type": "code",
      "metadata": {
        "colab": {
          "base_uri": "https://localhost:8080/"
        },
        "id": "EXf5DMnbjfdB",
        "outputId": "76051deb-bf19-446a-c5c5-566cd5c8c883"
      },
      "source": [
        "multilabel.classes_"
      ],
      "execution_count": null,
      "outputs": [
        {
          "output_type": "execute_result",
          "data": {
            "text/plain": [
              "array(['Administration/Sekretariat/Verwaltung', 'Banken/Versicherungen',\n",
              "       'Beratung/Recht', 'Chemie/Pharma', 'Diverse',\n",
              "       'Einkauf/Logistik/Produktion',\n",
              "       'Finanz- und Rechnungswesen/Controlling',\n",
              "       'Gastronomie/Hotellerie/Tourismus',\n",
              "       'Geschäftsführung / Unternehmensleitung',\n",
              "       'Gesundheitswesen/Medizin', 'Industrie/Ingenieurwesen/Technik',\n",
              "       'Informatik/Telekommunikation', 'Kaufmännisch', 'Marketing',\n",
              "       'Non-Profit/Soziales/Bildungswesen', 'Others',\n",
              "       'Personalmanagement', 'Verkauf/Kundenberatung'], dtype=object)"
            ]
          },
          "metadata": {},
          "execution_count": 95
        }
      ]
    },
    {
      "cell_type": "code",
      "metadata": {
        "id": "xSZJbSYnjnQq"
      },
      "source": [
        "# tfidf = TfidfVectorizer(analyzer='word', max_features=10000, ngram_range=(1,3))\n",
        "tfidf = TfidfVectorizer(analyzer='word')\n",
        "X = tfidf.fit_transform(df['texts'])"
      ],
      "execution_count": null,
      "outputs": []
    },
    {
      "cell_type": "code",
      "metadata": {
        "colab": {
          "base_uri": "https://localhost:8080/"
        },
        "id": "yFD9ZfE8j0yv",
        "outputId": "7524f9f6-74ae-4471-c7a4-aacd23b97688"
      },
      "source": [
        "X.shape, y.shape"
      ],
      "execution_count": null,
      "outputs": [
        {
          "output_type": "execute_result",
          "data": {
            "text/plain": [
              "((1412, 1538), (1412, 18))"
            ]
          },
          "metadata": {},
          "execution_count": 97
        }
      ]
    },
    {
      "cell_type": "code",
      "metadata": {
        "id": "1T5mTlIlj3R1"
      },
      "source": [
        "X_train, X_test, y_train, y_test = train_test_split(X, y, test_size = 0.1, random_state = 42)"
      ],
      "execution_count": null,
      "outputs": []
    },
    {
      "cell_type": "code",
      "metadata": {
        "id": "aCBc4eU0Lx9a"
      },
      "source": [
        "X_train = X\n",
        "y_train = y"
      ],
      "execution_count": null,
      "outputs": []
    },
    {
      "cell_type": "code",
      "metadata": {
        "id": "y1Irrrhtj8cc"
      },
      "source": [
        "sgd = SGDClassifier()\n",
        "lr = LogisticRegression(solver='lbfgs')\n",
        "svc = LinearSVC()\n",
        "nb = MultinomialNB()"
      ],
      "execution_count": null,
      "outputs": []
    },
    {
      "cell_type": "code",
      "metadata": {
        "id": "gEBluUuSj-0D"
      },
      "source": [
        "def j_score(y_true, y_pred):\n",
        "    jaccard = np.minimum(y_true, y_pred).sum(axis = 1)/np.maximum(y_true, y_pred).sum(axis = 1)\n",
        "    return jaccard.mean()*100\n",
        "\n",
        "\n",
        "def print_score(y_pred, clf):\n",
        "    print(\"Clf: \", clf.__class__.__name__)\n",
        "    print('Jacard score: {}'.format(j_score(y_test, y_pred)))\n",
        "    print('----')"
      ],
      "execution_count": null,
      "outputs": []
    },
    {
      "cell_type": "code",
      "metadata": {
        "colab": {
          "base_uri": "https://localhost:8080/"
        },
        "id": "okdExztSkIgJ",
        "outputId": "8ca1317c-4a54-4454-cd4d-c891b8b60fe3"
      },
      "source": [
        "for classifier in [sgd, lr, svc, nb]:\n",
        "    clf = OneVsRestClassifier(classifier)\n",
        "    clf.fit(X_train, y_train)\n",
        "    y_pred = clf.predict(X_test)\n",
        "    print_score(y_pred, classifier)"
      ],
      "execution_count": null,
      "outputs": [
        {
          "output_type": "stream",
          "name": "stdout",
          "text": [
            "Clf:  SGDClassifier\n",
            "Jacard score: 56.33802816901409\n",
            "----\n",
            "Clf:  LogisticRegression\n",
            "Jacard score: 28.87323943661972\n",
            "----\n",
            "Clf:  LinearSVC\n",
            "Jacard score: 50.352112676056336\n",
            "----\n",
            "Clf:  MultinomialNB\n",
            "Jacard score: 33.80281690140845\n",
            "----\n"
          ]
        }
      ]
    },
    {
      "cell_type": "code",
      "metadata": {
        "id": "BFeNwckwajwu",
        "colab": {
          "base_uri": "https://localhost:8080/"
        },
        "outputId": "11e541fd-f042-4d39-cd05-2e7c7e9c602c"
      },
      "source": [
        "for classifier in [sgd]:\n",
        "    clf = OneVsRestClassifier(classifier)\n",
        "    clf.fit(X_train, y_train)\n",
        "    y_pred = clf.predict(X_test)\n",
        "    print_score(y_pred, classifier)"
      ],
      "execution_count": null,
      "outputs": [
        {
          "output_type": "stream",
          "name": "stdout",
          "text": [
            "Clf:  SGDClassifier\n",
            "Jacard score: 82.74647887323944\n",
            "----\n"
          ]
        }
      ]
    },
    {
      "cell_type": "code",
      "metadata": {
        "id": "6iV6qmG-oqqG"
      },
      "source": [
        "x = [' Business Analyst/Requirement Engineer, Data Scientist']"
      ],
      "execution_count": null,
      "outputs": []
    },
    {
      "cell_type": "code",
      "metadata": {
        "id": "PZPLrUQlu-BT"
      },
      "source": [
        "x = [\"Einkaufsassistent, Sachbearbeiter, Sachbearbeiter Administration, kaufm. Sachbearbeiter, kaufm. Angestellte/r, Verkauf Innendienst, kaufm. Allrounder\"]"
      ],
      "execution_count": null,
      "outputs": []
    },
    {
      "cell_type": "code",
      "metadata": {
        "id": "RQ1QPYx_GrMw"
      },
      "source": [
        "x = [\"software developer\"]"
      ],
      "execution_count": null,
      "outputs": []
    },
    {
      "cell_type": "code",
      "metadata": {
        "id": "KkWbHi0gvFpr"
      },
      "source": [
        "xt = tfidf.transform(x)"
      ],
      "execution_count": null,
      "outputs": []
    },
    {
      "cell_type": "code",
      "metadata": {
        "colab": {
          "base_uri": "https://localhost:8080/"
        },
        "id": "xSUIC3QfveIv",
        "outputId": "e7064256-b7d8-4859-9dee-e2eab42a7821"
      },
      "source": [
        "xt"
      ],
      "execution_count": null,
      "outputs": [
        {
          "output_type": "execute_result",
          "data": {
            "text/plain": [
              "<1x37096 sparse matrix of type '<class 'numpy.float64'>'\n",
              "\twith 29 stored elements in Compressed Sparse Row format>"
            ]
          },
          "metadata": {},
          "execution_count": 35
        }
      ]
    },
    {
      "cell_type": "code",
      "metadata": {
        "colab": {
          "base_uri": "https://localhost:8080/"
        },
        "id": "bpr4_iAGvGsq",
        "outputId": "5abf7666-2e80-42f7-d28f-beadb3b6c981"
      },
      "source": [
        "clf.predict(xt)"
      ],
      "execution_count": null,
      "outputs": [
        {
          "output_type": "execute_result",
          "data": {
            "text/plain": [
              "array([[1, 0, 0, 0, 0, 0, 0, 0, 0, 0, 0, 0, 0, 0, 0, 0, 0, 0]])"
            ]
          },
          "metadata": {},
          "execution_count": 79
        }
      ]
    },
    {
      "cell_type": "code",
      "metadata": {
        "colab": {
          "base_uri": "https://localhost:8080/"
        },
        "id": "NaLt7JPEvJxh",
        "outputId": "c43c8a33-3680-4497-88bd-48e2ece1b3ac"
      },
      "source": [
        "multilabel.inverse_transform(clf.predict(xt))"
      ],
      "execution_count": null,
      "outputs": [
        {
          "output_type": "execute_result",
          "data": {
            "text/plain": [
              "[('Administration/Sekretariat/Verwaltung',)]"
            ]
          },
          "metadata": {},
          "execution_count": 80
        }
      ]
    },
    {
      "cell_type": "code",
      "metadata": {
        "id": "rRfZ-3TZLJKW",
        "colab": {
          "base_uri": "https://localhost:8080/"
        },
        "outputId": "f88e49ac-c79d-454a-f00e-935830a1aea6"
      },
      "source": [
        "import pickle\n",
        "print(pickle.format_version)"
      ],
      "execution_count": null,
      "outputs": [
        {
          "output_type": "stream",
          "name": "stdout",
          "text": [
            "4.0\n"
          ]
        }
      ]
    },
    {
      "cell_type": "code",
      "metadata": {
        "id": "SqDEl8-ELOkL"
      },
      "source": [
        "with open('/gdrive/MyDrive/Dataset_Jobdesk/sector_model.pkl', 'wb') as f:\n",
        "    pickle.dump(clf, f)\n",
        "\n",
        "with open('/gdrive/MyDrive/Dataset_Jobdesk/sector_tfidf.pkl', 'wb') as f:\n",
        "    pickle.dump(tfidf, f)\n",
        "\n",
        "with open('/gdrive/MyDrive/Dataset_Jobdesk/sector_multilabel.pkl', 'wb') as f:\n",
        "    pickle.dump(multilabel, f)"
      ],
      "execution_count": null,
      "outputs": []
    }
  ]
}